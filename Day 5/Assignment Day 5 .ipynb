{
 "cells": [
  {
   "cell_type": "markdown",
   "metadata": {},
   "source": [
    "## Question 1 :\n",
    "## Write a Python program to find the first 20 non-even prime natural numbers."
   ]
  },
  {
   "cell_type": "code",
   "execution_count": 5,
   "metadata": {},
   "outputs": [
    {
     "name": "stdout",
     "output_type": "stream",
     "text": [
      "1 #: 3 is a non-even prime number\n",
      "2 #: 5 is a non-even prime number\n",
      "3 #: 7 is a non-even prime number\n",
      "4 #: 11 is a non-even prime number\n",
      "5 #: 13 is a non-even prime number\n",
      "6 #: 17 is a non-even prime number\n",
      "7 #: 19 is a non-even prime number\n",
      "8 #: 23 is a non-even prime number\n",
      "9 #: 29 is a non-even prime number\n",
      "10 #: 31 is a non-even prime number\n",
      "11 #: 37 is a non-even prime number\n",
      "12 #: 41 is a non-even prime number\n",
      "13 #: 43 is a non-even prime number\n",
      "14 #: 47 is a non-even prime number\n",
      "15 #: 53 is a non-even prime number\n",
      "16 #: 59 is a non-even prime number\n",
      "17 #: 61 is a non-even prime number\n",
      "18 #: 67 is a non-even prime number\n",
      "19 #: 71 is a non-even prime number\n",
      "20 #: 73 is a non-even prime number\n"
     ]
    }
   ],
   "source": [
    "max=1 # counter to get the first 20 non-even prime numbers\n",
    "for i in range(1,100):\n",
    "    if(i!=2 or i!=1): # checking for the numbers other than 2 as 2 is even prime and 1 is neither prime nor composite\n",
    "        x=2 # counter to start verifying whether the number is divisible by any number less than the number itself, starting from 2\n",
    "        c=0 # counter to check that the division of the number is tried by all the numbers( except 1 and the number itself Eg: for 7, the division has to be done by 7-2= 5 numbers (i.e: 2,3,4,5,6))\n",
    "        while i>x : # checking whether the number is greater than the number it is trying to divide by.\n",
    "            if (i%x==0): # checking if the number from the range is perfectly divisible by atleast one of the numbers less than itself \n",
    "                #print(i,\"not a prime\")# if the number from the range is divisible by atleast one number, breaking from the while look\n",
    "                break\n",
    "            else :    \n",
    "                x=x+1 # incrementing the counter to divide the number from the range with next number everytime it is not divisble by the current number.\n",
    "                c=c+1 # incrementing the counter everytime the number is not divisible \n",
    "                if(c==(i-2) and max <=20): # restricting to display only first 20 non-even prime numbers and checking if the number from the range has been tried to be divided by all the numbers except 1 and the number itself\n",
    "                    print(max,\"#:\",i, \"is a non-even prime number\")\n",
    "                    max= max+1 \n",
    "    "
   ]
  },
  {
   "cell_type": "markdown",
   "metadata": {},
   "source": [
    "## Question 2 :\n",
    "## Write a Python program to implement 15 functions of string."
   ]
  },
  {
   "cell_type": "code",
   "execution_count": 4,
   "metadata": {},
   "outputs": [
    {
     "name": "stdout",
     "output_type": "stream",
     "text": [
      "23\n",
      "lETSuPGRADEaiml12 cLASS\n",
      "letsupgradeaiml12 class\n",
      "LETSUPGRADEAIML12 CLASS\n",
      "Letsupgradeaiml12 class\n",
      "False\n",
      "False\n",
      "True\n",
      "False\n",
      "###LetsUpgradeAIML12 Class####\n",
      "2\n",
      "True\n",
      "11\n",
      "False\n",
      "False\n",
      "False\n",
      "False\n"
     ]
    }
   ],
   "source": [
    "str =\"LetsUpgradeAIML12 Class\"\n",
    "\n",
    "print(len(str))\n",
    "print(str.swapcase())\n",
    "print(str.lower())\n",
    "print(str.upper())\n",
    "print(str.capitalize())\n",
    "print(str.isalpha())\n",
    "print(str.isnumeric())\n",
    "print(str.isprintable())\n",
    "print(str.isspace())\n",
    "print(str.center(30,'#'))\n",
    "print(str.count('a',5,21))\n",
    "print(str.endswith('Class'))\n",
    "print(str.find('AI',0,21))\n",
    "print(str.isalnum())\n",
    "print(str.isdecimal())\n",
    "print(str.isupper())\n",
    "print(str.islower())"
   ]
  },
  {
   "cell_type": "markdown",
   "metadata": {},
   "source": [
    "## Question 3:\n",
    "## Write a Python program to check if the given string is a Palindrome or Anagram or None of them. Display the message accordingly to the user.\n",
    "## Pallendrome"
   ]
  },
  {
   "cell_type": "code",
   "execution_count": 10,
   "metadata": {},
   "outputs": [
    {
     "name": "stdout",
     "output_type": "stream",
     "text": [
      "Enter text1 malayalam\n",
      "Enter text2 malayalam\n",
      "Text1 and text 2 are anagrams\n",
      "text 1 is Palindrome\n",
      "text 2 is palindrome\n"
     ]
    }
   ],
   "source": [
    "# Pallendrome or anagram or none of the above\n",
    "x= input(\"Enter text1 \")\n",
    "y = input(\"Enter text2 \")\n",
    "\n",
    "if (sorted(x)==sorted(y)):\n",
    "    print(\"Text1 and text 2 are anagrams\")\n",
    "if (x==x[::-1] or y==y[::-1]):\n",
    "    if(x==x[::-1]):\n",
    "        print(\"text 1 is Palindrome\")\n",
    "    if(y==y[::-1]):\n",
    "        print (\"text 2 is palindrome\")    \n",
    "elif(not((x==x[::-1] or y==y[::-1]) or (sorted(x)==sorted(y)))):\n",
    "    print(\"both text1 and text2 are niether a palindrome nor anagram\")"
   ]
  },
  {
   "cell_type": "markdown",
   "metadata": {},
   "source": [
    "## Question 4:\n",
    "## Write a Python's user defined function that removes all the additional characters from the string and converts it finally to lower case using built-in lower(). eg: If the string is \"Dr. Darshan Ingle @AI-ML Trainer\", then the output be \"drdarshaningleaimltrainer\"."
   ]
  },
  {
   "cell_type": "code",
   "execution_count": 11,
   "metadata": {},
   "outputs": [
    {
     "name": "stdout",
     "output_type": "stream",
     "text": [
      "Enter the text with special characters, mixed case, numbers and spaces in it and press Enter Key:\n",
      "Dr. Darshan Ingle @AI-ML Trainer\n",
      "Entered text is : \n",
      " Dr. Darshan Ingle @AI-ML Trainer\n",
      "The text after converting to lower case and removing spaces, sepecial characters and numbers is :\n",
      " drdarshaningleaimltrainer\n"
     ]
    }
   ],
   "source": [
    "# function take the string and retruns the string in lowercase and drops all the sepcial characters.\n",
    "def lower_onlyalpa(str):\n",
    "    x=str.lower()\n",
    "    y=\"\"\n",
    "    z=\"\"\n",
    "    for i in range (0, len(x)):\n",
    "     if(x[i].isalpha()):\n",
    "         y=x[i]\n",
    "         z=z+y\n",
    "    return z\n",
    "\n",
    "uservalue = input(\"Enter the text with special characters, mixed case, numbers and spaces in it and press Enter Key:\\n\")\n",
    "print(\"Entered text is : \\n\",uservalue)\n",
    "result=lower_onlyalpa(uservalue) # calling the function\n",
    "print(\"The text after converting to lower case and removing spaces, sepecial characters and numbers is :\\n\",result)\n",
    "\n",
    "    "
   ]
  }
 ],
 "metadata": {
  "kernelspec": {
   "display_name": "Python 3",
   "language": "python",
   "name": "python3"
  },
  "language_info": {
   "codemirror_mode": {
    "name": "ipython",
    "version": 3
   },
   "file_extension": ".py",
   "mimetype": "text/x-python",
   "name": "python",
   "nbconvert_exporter": "python",
   "pygments_lexer": "ipython3",
   "version": "3.7.6"
  }
 },
 "nbformat": 4,
 "nbformat_minor": 4
}
