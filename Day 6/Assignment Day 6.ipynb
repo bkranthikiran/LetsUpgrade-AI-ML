{
 "cells": [
  {
   "cell_type": "markdown",
   "metadata": {},
   "source": [
    "# Assignment Day 6"
   ]
  },
  {
   "cell_type": "markdown",
   "metadata": {},
   "source": [
    "## Question 1:\n",
    "## Assuming that we have some email addresses in the \"username@companyname.com\" format, please write program to print the company name of a given email address. Both user names and company names are composed of letters only."
   ]
  },
  {
   "cell_type": "code",
   "execution_count": 11,
   "metadata": {},
   "outputs": [
    {
     "name": "stdout",
     "output_type": "stream",
     "text": [
      "Enter email iddharshan@letsupgrade.com\n",
      "Spliting the email with '@' ['dharshan', 'letsupgrade.com']\n",
      "The company.domain part after split letsupgrade.com\n",
      "Elements after splitting with '.' ['letsupgrade', 'com']\n",
      "\n",
      "\n",
      "Company Name is  letsupgrade\n",
      "Person name is dharshan\n"
     ]
    }
   ],
   "source": [
    "import re\n",
    "x = input(\"Enter email id\")\n",
    "y= re.split(\"@\",x) # splitting the email id with '@'\n",
    "print(\"Spliting the email with '@'\",y)# printing the array\n",
    "z= y[1] # grabbing the part of the email address after '@'\n",
    "print(\"The company.domain part after split\",z)\n",
    "a=re.split(\"\\.\",z) # spliting the part after '@' with '.'\n",
    "print(\"Elements after splitting with '.'\", a) # printing the split\n",
    "print(\"\\n\\nCompany Name is \", a[0]) # grabbing the first element which is the company\n",
    "print(\"Person name is\",y[0])"
   ]
  },
  {
   "cell_type": "markdown",
   "metadata": {},
   "source": [
    "## Question 2:\n",
    "## Write a program that accepts a comma-separated sequence of words as input and prints the words in a comma separated sequence after sorting them alphabetically.\n",
    "### Input Format:\n",
    "The first line of input contains words separated by the comma.\n",
    "Output Format:\n",
    "Print the sorted words separated by the comma.\n",
    "Example:\n",
    "Input:\n",
    "without,hello,bag,world\n",
    "Output:\n",
    "bag,hello,without,world"
   ]
  },
  {
   "cell_type": "code",
   "execution_count": 14,
   "metadata": {},
   "outputs": [
    {
     "name": "stdout",
     "output_type": "stream",
     "text": [
      "enter the elements seperated by commas: without,hello,bag,world\n",
      "The entered values are :\n",
      " without,hello,bag,world\n",
      "Elements after sorting : \n",
      "bag,hello,without,world\n"
     ]
    }
   ],
   "source": [
    "x= input(\"enter the elements seperated by commas: \")\n",
    "print(\"The entered values are :\\n\",x)\n",
    "y= sorted(re.split(\",\",x))\n",
    "print(\"Elements after sorting : \")\n",
    "print(','.join(y))"
   ]
  },
  {
   "cell_type": "markdown",
   "metadata": {},
   "source": [
    "## Question 3:\n",
    "## Create your own Jupyter Notebook for Sets. Reference link: https://www.w3schools.com/python/python_sets.asp"
   ]
  },
  {
   "cell_type": "markdown",
   "metadata": {},
   "source": [
    "Notebook for Sets:\n",
    "\n",
    "1. A set is a collection which is unordered and unindexed. In Python sets are written with curly brackets.\n",
    "Eg. x= {\"apple\", \"banana:, \"cherry\"}\n",
    "2. Accessing the items from the set\n",
    "    x= {\"apple\", \"banana:, \"cherry\"}\n",
    "    for i in x:\n",
    "        print(i)\n",
    "3.  Methods:\n",
    "   \n",
    "Method\t                         Description\n",
    "------------------------------------------------------------\n",
    "add()\t                         Adds an element to the set\n",
    "clear()\t                         Removes all the elements from the set\n",
    "copy()\t                         Returns a copy of the set\n",
    "difference()\t                 Returns a set containing the difference between two or more sets\n",
    "difference_update()\t             Removes the items in this set that are also included in another, specified set\n",
    "discard()\t                     Remove the specified item\n",
    "intersection()\t                 Returns a set, that is the intersection of two other sets\n",
    "intersection_update()\t         Removes the items in this set that are not present in other, specified set(s)\n",
    "isdisjoint()\t                 Returns whether two sets have a intersection or not\n",
    "issubset()\t                     Returns whether another set contains this set or not\n",
    "issuperset()\t                 Returns whether this set contains another set or not\n",
    "pop()\t                         Removes an element from the set\n",
    "remove()\t                     Removes the specified element\n",
    "symmetric_difference()\t         Returns a set with the symmetric differences of two sets\n",
    "symmetric_difference_update()\t inserts the symmetric differences from this set and another\n",
    "union()\t                         Return a set containing the union of sets\n",
    "update()\t                     Update the set with the union of this set and others\n"
   ]
  },
  {
   "cell_type": "code",
   "execution_count": 35,
   "metadata": {},
   "outputs": [
    {
     "name": "stdout",
     "output_type": "stream",
     "text": [
      "After adding to the set {'orange', 'banana', 'apple', 'cherry'}\n",
      "After removing an element from the set {'orange', 'apple', 'cherry'}\n",
      "After updating x with y {'car', 'bicycle', 'cherry', 'motorcycle', 'apple', 'orange'}\n",
      "After discarding an element from the set {'bicycle', 'cherry', 'motorcycle', 'apple', 'orange'}\n",
      "union of X and Y {'bicycle', 'cherry', 'motorcycle', 'apple', 'orange'}\n",
      "difference between the sets y and Z {'car', 'motorcycle'}\n",
      "difference between the sets y and Z None\n",
      "intersection of two sets {'bicycle', 'apple'}\n",
      "symmetrical difference of two sets {'chicago', 'cherry', 'motorcycle', 'london', 'orange', 'newyork'}\n",
      "{'car', 'motorcycle'}\n",
      "After clearing the set y set()\n"
     ]
    }
   ],
   "source": [
    "# Demonstrate some of the set functions\n",
    "\n",
    "x={'apple', 'banana','cherry'}\n",
    "y={'bicycle','motorcycle','car'}\n",
    "z={'london','newyork','chicago','bicycle','apple'}\n",
    "x.add('orange')\n",
    "print(\"After adding to the set\",x)\n",
    "x.remove('banana')\n",
    "print(\"After removing an element from the set\",x)\n",
    "x.update(y)\n",
    "print(\"After updating x with y\",x)\n",
    "x.discard(\"car\")\n",
    "print(\"After discarding an element from the set\", x)\n",
    "x.union(y)\n",
    "print(\"union of X and Y\", x)\n",
    "print(\"difference between the sets y and Z\", y.difference(z))\n",
    "print(\"difference between the sets y and Z\", y.difference_update(z))\n",
    "print(\"intersection of two sets\",x.intersection(z))\n",
    "print(\"symmetrical difference of two sets\",x.symmetric_difference(z))\n",
    "print(y)\n",
    "y.clear()\n",
    "print(\"After clearing the set y\", y)\n",
    "\n"
   ]
  },
  {
   "cell_type": "markdown",
   "metadata": {},
   "source": [
    "## Question 4:\n",
    "## Given a list of n-1 numbers ranging from 1 to n, your task is to find the missing number. There are no duplicates.\n",
    "### Input Format:\n",
    "    The first line contains n-1 numbers with each number separated by a space.\n",
    "     Output Format:\n",
    "     Print the missing number\n",
    "     Example:\n",
    "     Input:1 2 4 6 3 7 8\n",
    "     Output:5\n"
   ]
  },
  {
   "cell_type": "code",
   "execution_count": 13,
   "metadata": {},
   "outputs": [
    {
     "name": "stdout",
     "output_type": "stream",
     "text": [
      "enter the sequence with missing number:\n",
      "1 2 4 6 3 8 7\n",
      "Entered numbers in the sorted order are format\n",
      " [1, 2, 3, 4, 6, 7, 8]\n",
      "The missing numbers in the provided sequence are :\n",
      " 5\n"
     ]
    }
   ],
   "source": [
    "import re\n",
    "x= input(\"enter the sequence with missing number:\\n\")\n",
    "y= re.split(\" \",x) # grabbing the input into list\n",
    "y=sorted(list(map(int,y)))\n",
    "print(\"Entered numbers in the sorted order are format\\n\",y)\n",
    "z=set(range(y[0],y[-1]+1))\n",
    "print(\"The missing numbers in the provided sequence are :\\n\",*(z-set(y)), sep=\" \")"
   ]
  },
  {
   "cell_type": "markdown",
   "metadata": {},
   "source": [
    "## Question 5:\n",
    "## With a given list L, write a program to print this list L after removing all duplicate values with original order reserved.\n",
    "### Example:\n",
    "If the input list is\n",
    "12 24 35 24 88 120 155 88 120 155\n",
    "Then the output should be\n",
    "12 24 35 88 120 155\n",
    "Explanation:\n",
    "Third, seventh and ninth element of the list L has been removed because it was already present.\n",
    "Input Format:\n",
    "In one line take the elements of the list L with each element separated by a space.\n",
    "Output Format:\n",
    "Print the elements of the modified list in one line with each element separated by a space.\n",
    "Example:\n",
    "Input: 12 24 35 24\n",
    "Output:\n",
    "12 24 35\n"
   ]
  },
  {
   "cell_type": "code",
   "execution_count": 38,
   "metadata": {},
   "outputs": [
    {
     "name": "stdout",
     "output_type": "stream",
     "text": [
      "enter the number:\n",
      "12 24 35 24 88 120 155 88\n",
      "The unique values from the given input \n",
      " 12 24 35 88 120 155\n"
     ]
    }
   ],
   "source": [
    "import re\n",
    "x= input(\"enter the number:\\n\")\n",
    "y= re.split(\" \",x)# spliting by space delimter which gives a list\n",
    "y=list(dict.fromkeys(y))# creating a dictionary with the keys from the, as the keys are unique, it will pick only unique and then converting to list\n",
    "print(\"The unique values from the given input \\n\",\" \". join(y))"
   ]
  }
 ],
 "metadata": {
  "kernelspec": {
   "display_name": "Python 3",
   "language": "python",
   "name": "python3"
  },
  "language_info": {
   "codemirror_mode": {
    "name": "ipython",
    "version": 3
   },
   "file_extension": ".py",
   "mimetype": "text/x-python",
   "name": "python",
   "nbconvert_exporter": "python",
   "pygments_lexer": "ipython3",
   "version": "3.7.6"
  }
 },
 "nbformat": 4,
 "nbformat_minor": 4
}
