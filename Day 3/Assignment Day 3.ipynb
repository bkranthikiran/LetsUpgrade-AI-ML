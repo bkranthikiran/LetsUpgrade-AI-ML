{
 "cells": [
  {
   "cell_type": "markdown",
   "metadata": {},
   "source": [
    "## Question 1 :\n",
    "## Write a program to subtract two complex numbers in Python.\n"
   ]
  },
  {
   "cell_type": "code",
   "execution_count": 72,
   "metadata": {},
   "outputs": [
    {
     "name": "stdout",
     "output_type": "stream",
     "text": [
      " The result of substracting two imginary numbers (3+4j) and (2+3j) is (1+1j)\n"
     ]
    }
   ],
   "source": [
    "a = 3+4j\n",
    "b = 2+3J\n",
    "c = a-b\n",
    "print(\" The result of substracting two imginary numbers\", a, \"and\", b, \"is\", c)\n"
   ]
  },
  {
   "cell_type": "markdown",
   "metadata": {},
   "source": [
    "## Question 2 :\n",
    "## Write a program to find the fourth root of a number."
   ]
  },
  {
   "cell_type": "code",
   "execution_count": 11,
   "metadata": {},
   "outputs": [
    {
     "name": "stdout",
     "output_type": "stream",
     "text": [
      "Fourth root of 81 is 3.0\n"
     ]
    }
   ],
   "source": [
    "a = 81\n",
    "b = a**(1/4)\n",
    "print(\"Fourth root of\", a,\"is\", b)"
   ]
  },
  {
   "cell_type": "markdown",
   "metadata": {},
   "source": [
    "## Question 3:\n",
    "## Write a program to swap two numbers in Python with the help of a temporary variable"
   ]
  },
  {
   "cell_type": "code",
   "execution_count": 15,
   "metadata": {},
   "outputs": [
    {
     "name": "stdout",
     "output_type": "stream",
     "text": [
      "Before Swapping: a= 10  and b= 20\n",
      "After Swapping: a= 20  and b= 10\n"
     ]
    }
   ],
   "source": [
    "a= 10\n",
    "b= 20\n",
    "print(\"Before Swapping: a=\", a,\" and b=\",b)\n",
    "c = a # c is the temporary variable\n",
    "a = b\n",
    "b = c\n",
    "print(\"After Swapping: a=\", a,\" and b=\",b)"
   ]
  },
  {
   "cell_type": "markdown",
   "metadata": {},
   "source": [
    "## Question 4:\n",
    "## Write a program to swap two numbers in Python without using a temporary variable"
   ]
  },
  {
   "cell_type": "code",
   "execution_count": 26,
   "metadata": {},
   "outputs": [
    {
     "name": "stdout",
     "output_type": "stream",
     "text": [
      "Before Swapping: a= 30  and b= 40\n",
      "After Swapping: a= 40  and b= 30\n"
     ]
    }
   ],
   "source": [
    "a= 30\n",
    "b= 40\n",
    "print(\"Before Swapping: a=\", a,\" and b=\",b)\n",
    "\n",
    "a=a+b # a =70\n",
    "b=a-b # b= 70-40; b=30\n",
    "a=a-b # a =70-30; a =40\n",
    "\n",
    "print(\"After Swapping: a=\", a,\" and b=\",b)\n",
    "\n"
   ]
  },
  {
   "cell_type": "markdown",
   "metadata": {},
   "source": [
    "## Question 5:\n",
    "## Write a program to convert fahrenheit to kelvin and celsius both."
   ]
  },
  {
   "cell_type": "code",
   "execution_count": 37,
   "metadata": {},
   "outputs": [
    {
     "name": "stdout",
     "output_type": "stream",
     "text": [
      "Temperature in Fahrenheit is 100 \n",
      "Temperature in Celsius is 37.77777777777778 \n",
      "Temperature in Kelvin is 310.92777777777775\n"
     ]
    }
   ],
   "source": [
    "# C= (F-32)*5/9 \n",
    "# K= (F-32)*5/9 + 273.15  or K = C+273.15\n",
    "\n",
    "f= 100\n",
    "c = (f-32)*5/9\n",
    "k = c + 273.15\n",
    "\n",
    "print(\"Temperature in Fahrenheit is\", f, \"\\nTemperature in Celsius is\" , c, \"\\nTemperature in Kelvin is\", k)"
   ]
  },
  {
   "cell_type": "markdown",
   "metadata": {},
   "source": [
    "## Question 6:\n",
    "## Write a program to demonstrate all the available data types in Python. Hint: Use type() function.\n"
   ]
  },
  {
   "cell_type": "code",
   "execution_count": 69,
   "metadata": {
    "scrolled": true
   },
   "outputs": [
    {
     "name": "stdout",
     "output_type": "stream",
     "text": [
      "\n",
      "Datatype of 1 is <class 'int'> , In other words, Example of datatype <class 'int'> is 1\n",
      "\n",
      "Datatype of 1.5 is <class 'float'> , In other words, Example of datatype <class 'float'> is 1.5\n",
      "\n",
      "Datatype of a is <class 'str'> , In other words, Example of datatype <class 'str'> is a\n",
      "\n",
      "Datatype of [1, 2] is <class 'list'> , In other words, Example of datatype <class 'list'> is [1, 2]\n",
      "\n",
      "Datatype of (1, 2) is <class 'tuple'> , In other words, Example of datatype <class 'tuple'> is (1, 2)\n",
      "\n",
      "Datatype of (2+3j) is <class 'complex'> , In other words, Example of datatype <class 'complex'> is (2+3j)\n",
      "\n",
      "Datatype of True is <class 'bool'> , In other words, Example of datatype <class 'bool'> is True\n"
     ]
    }
   ],
   "source": [
    "l = [1,1.5,\"a\",[1,2],(1,2),2+3j,True]\n",
    "for i in l:\n",
    "    print(\"\\nDatatype of\", i ,\"is\", type(i),\", In other words,\",\"Example of datatype\",type(i),\"is\",i )"
   ]
  },
  {
   "cell_type": "markdown",
   "metadata": {},
   "source": [
    "## Question 7:\n",
    "## Create a Markdown cell in jupyter and list the steps discussed in the session by Dr. Darshan Ingle sir to create Github profile and upload Githubs Assignment link.\n",
    "\n",
    "##### steps to create Github profile\n",
    "1. Go to github.com\n",
    "2. Signup and Signin to github.com\n",
    "3. Create a folder with name Day 3 ( which ever day we are submitting the assignments for).\n",
    "4. Go back to github, Create a new repository \"LetsUpgrade AI-ML\"\n",
    "5. Mention Descrition as Assignments\n",
    "6. leave it as Public repository\n",
    "7. Click on the \"Create Repository\" button\n",
    "8. LetsUpgrade AI-ML folder is created\n",
    "9. Click on 'upload an existing file'\n",
    "10. Drag and drop the whole Day3 folder\n",
    "11. Verify the file is uploaded\n",
    "12. Click on commit changes button.\n",
    "13. Click on Day3 folder created and verify the uploaded notebook\n",
    "14. copy the url at the folder level from the GitHub and paste it on the google form provided along with the registered email id, name and email address. Select the appropriate Day from teh drop down .\n",
    "15. Verify that the gihub url is accessible by checking it in the incognito mode to make sure the link is public\n",
    "16. submit the google form.\n",
    "17. Verify the email inbox for the notification for the submission.\n",
    "\n",
    "\n"
   ]
  }
 ],
 "metadata": {
  "kernelspec": {
   "display_name": "Python 3",
   "language": "python",
   "name": "python3"
  },
  "language_info": {
   "codemirror_mode": {
    "name": "ipython",
    "version": 3
   },
   "file_extension": ".py",
   "mimetype": "text/x-python",
   "name": "python",
   "nbconvert_exporter": "python",
   "pygments_lexer": "ipython3",
   "version": "3.7.6"
  }
 },
 "nbformat": 4,
 "nbformat_minor": 4
}
