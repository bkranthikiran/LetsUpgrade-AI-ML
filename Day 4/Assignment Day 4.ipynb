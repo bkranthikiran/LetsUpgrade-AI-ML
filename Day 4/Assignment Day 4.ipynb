{
 "cells": [
  {
   "cell_type": "markdown",
   "metadata": {},
   "source": [
    "## Day 4 Assignment"
   ]
  },
  {
   "cell_type": "markdown",
   "metadata": {},
   "source": [
    "## Question 1 :\n",
    "## Research on whether addition, subtraction, multiplication, division, floor division and modulo operations be performed on complex numbers. Based on your study, implement a Python program to demonstrate these operations.\n"
   ]
  },
  {
   "cell_type": "code",
   "execution_count": 26,
   "metadata": {},
   "outputs": [
    {
     "name": "stdout",
     "output_type": "stream",
     "text": [
      "Addition of the two imaginary numbers is :  (7+9j)\n",
      "substraction of the two imaginary numbers is :  (-1-1j)\n",
      "multiplication of the two imaginary numbers is :  (-8+31j)\n",
      "Division of the two imaginary numbers is :  (0.7804878048780489+0.02439024390243905j)\n"
     ]
    }
   ],
   "source": [
    "# Addition on complex numbers\n",
    "x=3+4j\n",
    "y=4+5j\n",
    "print(\"Addition of the two imaginary numbers is : \",x+y)\n",
    "\n",
    "#Subtraction\n",
    "x=3+4j\n",
    "y=4+5j\n",
    "print(\"substraction of the two imaginary numbers is : \",x-y)\n",
    "\n",
    "#Multiplication\n",
    "x=3+4j\n",
    "y=4+5j\n",
    "print(\"multiplication of the two imaginary numbers is : \",x*y)\n",
    "\n",
    "\n",
    "#Division\n",
    "x=3+4j\n",
    "y=4+5j\n",
    "print(\"Division of the two imaginary numbers is : \",x/y)\n",
    "\n",
    "\n",
    "#Floor and Mod operations are not supported for complex numbers in python"
   ]
  },
  {
   "cell_type": "markdown",
   "metadata": {},
   "source": [
    "## Question 2 :\n",
    "## Research on range() functions and its parameters. Create a markdown cell and write in your own words (no copy-paste from google please) what you understand about it. Implement a small program of your choice on the same."
   ]
  },
  {
   "cell_type": "markdown",
   "metadata": {},
   "source": [
    "1. Range represents an immutabel sequence of numbers\n",
    "2. Range supports positive and negative indices\n",
    "3. Syntax: range(start,stop,step).\n",
    "   Eg: range(0,20,8) gives: 0,8,16\n",
    "4. Ranges implement all of the common sequence operations except concatenation and repetition\n",
    "5. Range type always takes small amount of memory as it only stores the start, stop and step values.\n",
    "       "
   ]
  },
  {
   "cell_type": "code",
   "execution_count": 14,
   "metadata": {},
   "outputs": [
    {
     "name": "stdout",
     "output_type": "stream",
     "text": [
      "[0, 5, 10, 15, 20, 25, 30, 35, 40, 45]\n",
      "False\n",
      "40\n",
      "45\n",
      "2\n",
      "[0, 2, 4, 6, 8, 10, 12, 14, 16, 18, 20, 22, 24, 26, 28, 30, 32, 34, 36, 38, 40, 42, 44, 46, 48]\n"
     ]
    }
   ],
   "source": [
    "#example of Range\n",
    "\n",
    "x= range(0, 50, 5)\n",
    "print(list(x))\n",
    "print(7 in x) # to find whether an element is present in the range ( returns false)\n",
    "print(x[8]) # to find the value at index 8\n",
    "print(x[-1])# gives the value at the end of the list( negative index)\n",
    "print(x.index(10))# gives the index of the value \n",
    "\n",
    "# printing the even numbers less than 50\n",
    "y=range(0,50,2)\n",
    "print(list(y))"
   ]
  },
  {
   "cell_type": "markdown",
   "metadata": {},
   "source": [
    "## Question 3:\n",
    "## Consider two numbers. Perform their subtraction and if the result of subtraction is greater than 25, print their multiplication result else print their division result."
   ]
  },
  {
   "cell_type": "code",
   "execution_count": 37,
   "metadata": {},
   "outputs": [
    {
     "name": "stdout",
     "output_type": "stream",
     "text": [
      "7575 : Multiplication as the difference between the two numbers is greater than 25 \n"
     ]
    }
   ],
   "source": [
    "a= 75\n",
    "b= 101\n",
    "if (abs(a-b)>25) :\n",
    "    # using the absolute value so that we can consider the difference regardless of the order of the numbers while subtration.\n",
    "        print(a*b, \": Multiplication as the difference between the two numbers is greater than 25 \")\n",
    "else :\n",
    "     print(a/b, \": Division as the difference between the two numbers is not greater than 25 \" )\n"
   ]
  },
  {
   "cell_type": "markdown",
   "metadata": {},
   "source": [
    "## Question 4:\n",
    "## Consider a list of 10 elements of integer values. If the number in the list is divisible by 2, print the result as \"square of that number minus 2\".\n"
   ]
  },
  {
   "cell_type": "code",
   "execution_count": 38,
   "metadata": {},
   "outputs": [
    {
     "name": "stdout",
     "output_type": "stream",
     "text": [
      "10  :  square of that number minus 2 is  98\n",
      "20  :  square of that number minus 2 is  398\n",
      "4  :  square of that number minus 2 is  14\n",
      "56  :  square of that number minus 2 is  3134\n",
      "76  :  square of that number minus 2 is  5774\n"
     ]
    }
   ],
   "source": [
    "l = [10,13,15,20,3,43,4,56,76,87]\n",
    "for i in l:\n",
    "    if (i%2==0):\n",
    "        print(i,\" :  square of that number minus 2 is \",(i**2)-2 )   "
   ]
  },
  {
   "cell_type": "markdown",
   "metadata": {},
   "source": [
    "## Question 5:\n",
    "## Consider a list of 10 elements. Print all the elements in the list which are greater than 7 when that number is divided 2."
   ]
  },
  {
   "cell_type": "code",
   "execution_count": 2,
   "metadata": {},
   "outputs": [
    {
     "name": "stdout",
     "output_type": "stream",
     "text": [
      "15  :  This element is greater than 7 when divided by 2\n",
      "20  :  This element is greater than 7 when divided by 2\n",
      "43  :  This element is greater than 7 when divided by 2\n",
      "56  :  This element is greater than 7 when divided by 2\n",
      "76  :  This element is greater than 7 when divided by 2\n",
      "87  :  This element is greater than 7 when divided by 2\n"
     ]
    }
   ],
   "source": [
    "l = [10,13,15,20,3,43,4,56,76,87]\n",
    "for i in l:\n",
    "    if (i/2>7):\n",
    "        print(i,\" :  This element is greater than 7 when divided by 2\")\n",
    "       \n"
   ]
  }
 ],
 "metadata": {
  "kernelspec": {
   "display_name": "Python 3",
   "language": "python",
   "name": "python3"
  },
  "language_info": {
   "codemirror_mode": {
    "name": "ipython",
    "version": 3
   },
   "file_extension": ".py",
   "mimetype": "text/x-python",
   "name": "python",
   "nbconvert_exporter": "python",
   "pygments_lexer": "ipython3",
   "version": "3.7.6"
  }
 },
 "nbformat": 4,
 "nbformat_minor": 4
}
